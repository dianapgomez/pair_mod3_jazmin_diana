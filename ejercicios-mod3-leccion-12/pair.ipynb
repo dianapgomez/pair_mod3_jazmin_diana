{
 "cells": [
  {
   "cell_type": "code",
   "execution_count": 1,
   "metadata": {},
   "outputs": [],
   "source": [
    "import requests\n",
    "import json\n",
    "import pandas as pd"
   ]
  },
  {
   "cell_type": "code",
   "execution_count": 2,
   "metadata": {},
   "outputs": [
    {
     "data": {
      "text/html": [
       "<div>\n",
       "<style scoped>\n",
       "    .dataframe tbody tr th:only-of-type {\n",
       "        vertical-align: middle;\n",
       "    }\n",
       "\n",
       "    .dataframe tbody tr th {\n",
       "        vertical-align: top;\n",
       "    }\n",
       "\n",
       "    .dataframe thead th {\n",
       "        text-align: right;\n",
       "    }\n",
       "</style>\n",
       "<table border=\"1\" class=\"dataframe\">\n",
       "  <thead>\n",
       "    <tr style=\"text-align: right;\">\n",
       "      <th></th>\n",
       "      <th>ID_Cliente</th>\n",
       "      <th>ID_Producto</th>\n",
       "      <th>Fecha_Venta</th>\n",
       "      <th>Cantidad</th>\n",
       "      <th>Total</th>\n",
       "    </tr>\n",
       "  </thead>\n",
       "  <tbody>\n",
       "    <tr>\n",
       "      <th>0</th>\n",
       "      <td>723</td>\n",
       "      <td>A1</td>\n",
       "      <td>2023-11-22</td>\n",
       "      <td>2</td>\n",
       "      <td>17.98</td>\n",
       "    </tr>\n",
       "    <tr>\n",
       "      <th>24</th>\n",
       "      <td>876</td>\n",
       "      <td>AT46</td>\n",
       "      <td>2023-10-25</td>\n",
       "      <td>2</td>\n",
       "      <td>9.98</td>\n",
       "    </tr>\n",
       "  </tbody>\n",
       "</table>\n",
       "</div>"
      ],
      "text/plain": [
       "    ID_Cliente ID_Producto Fecha_Venta  Cantidad  Total\n",
       "0          723          A1  2023-11-22         2  17.98\n",
       "24         876        AT46  2023-10-25         2   9.98"
      ]
     },
     "execution_count": 2,
     "metadata": {},
     "output_type": "execute_result"
    }
   ],
   "source": [
    "df1 = pd.read_csv(\"ventas.csv\")\n",
    "df1.sample(2)"
   ]
  },
  {
   "cell_type": "code",
   "execution_count": 3,
   "metadata": {},
   "outputs": [
    {
     "name": "stdout",
     "output_type": "stream",
     "text": [
      "<class 'pandas.core.frame.DataFrame'>\n",
      "RangeIndex: 100 entries, 0 to 99\n",
      "Data columns (total 5 columns):\n",
      " #   Column       Non-Null Count  Dtype  \n",
      "---  ------       --------------  -----  \n",
      " 0   ID_Cliente   100 non-null    int64  \n",
      " 1   ID_Producto  100 non-null    object \n",
      " 2   Fecha_Venta  100 non-null    object \n",
      " 3   Cantidad     100 non-null    int64  \n",
      " 4   Total        100 non-null    float64\n",
      "dtypes: float64(1), int64(2), object(2)\n",
      "memory usage: 4.0+ KB\n"
     ]
    }
   ],
   "source": [
    "df1.info()"
   ]
  },
  {
   "cell_type": "markdown",
   "metadata": {},
   "source": [
    "- Encontrar y eliminar duplicados "
   ]
  },
  {
   "cell_type": "code",
   "execution_count": 4,
   "metadata": {},
   "outputs": [
    {
     "name": "stdout",
     "output_type": "stream",
     "text": [
      "25    123\n",
      "30    234\n",
      "31    876\n",
      "32    543\n",
      "33    908\n",
      "     ... \n",
      "95    234\n",
      "96    987\n",
      "97    543\n",
      "98    234\n",
      "99    987\n",
      "Name: ID_Cliente, Length: 70, dtype: int64\n",
      "[123 234 876 543 908 312 987 798 321 654 765 567 789 456]\n",
      "ID_Cliente\n",
      "234    20\n",
      "543    13\n",
      "987    13\n",
      "876    10\n",
      "321     3\n",
      "654     2\n",
      "765     2\n",
      "123     1\n",
      "908     1\n",
      "312     1\n",
      "798     1\n",
      "567     1\n",
      "789     1\n",
      "456     1\n",
      "Name: count, dtype: int64\n"
     ]
    }
   ],
   "source": [
    "# Identificar los números duplicados\n",
    "duplicados = df1[df1['ID_Cliente'].duplicated()]\n",
    "\n",
    "# Extraer solo la columna 'employeenumber' de los duplicados\n",
    "numeros_duplicados = duplicados['ID_Cliente']\n",
    "\n",
    "# Imprimir los números duplicados\n",
    "print(numeros_duplicados)\n",
    "\n",
    "# si solo quieres los valores unicos de los duplicados.\n",
    "print(numeros_duplicados.unique())\n",
    "\n",
    "# si quieres contar los duplicados.\n",
    "print(numeros_duplicados.value_counts())"
   ]
  },
  {
   "cell_type": "code",
   "execution_count": 5,
   "metadata": {},
   "outputs": [],
   "source": [
    "def eliminar_duplicados_empleado(df):\n",
    "\n",
    "    df = df.drop_duplicates(subset='ID_Cliente', keep='first')\n",
    "    return df"
   ]
  },
  {
   "cell_type": "code",
   "execution_count": 6,
   "metadata": {},
   "outputs": [],
   "source": [
    "df = eliminar_duplicados_empleado(df1) #aplicamos la función al df"
   ]
  },
  {
   "cell_type": "code",
   "execution_count": 28,
   "metadata": {},
   "outputs": [],
   "source": [
    "df.to_csv(\"clientes_limpio.csv\", index=False)"
   ]
  },
  {
   "cell_type": "code",
   "execution_count": 8,
   "metadata": {},
   "outputs": [
    {
     "data": {
      "text/html": [
       "<div>\n",
       "<style scoped>\n",
       "    .dataframe tbody tr th:only-of-type {\n",
       "        vertical-align: middle;\n",
       "    }\n",
       "\n",
       "    .dataframe tbody tr th {\n",
       "        vertical-align: top;\n",
       "    }\n",
       "\n",
       "    .dataframe thead th {\n",
       "        text-align: right;\n",
       "    }\n",
       "</style>\n",
       "<table border=\"1\" class=\"dataframe\">\n",
       "  <thead>\n",
       "    <tr style=\"text-align: right;\">\n",
       "      <th></th>\n",
       "      <th>ID</th>\n",
       "      <th>Nombre_Producto</th>\n",
       "      <th>Categoría</th>\n",
       "      <th>Precio</th>\n",
       "      <th>Origen</th>\n",
       "      <th>Descripción</th>\n",
       "    </tr>\n",
       "  </thead>\n",
       "  <tbody>\n",
       "    <tr>\n",
       "      <th>16</th>\n",
       "      <td>Q17</td>\n",
       "      <td>Pasta de Trigo</td>\n",
       "      <td>Productos Secos</td>\n",
       "      <td>3.99</td>\n",
       "      <td>Italia</td>\n",
       "      <td>Deliciosa pasta de trigo durum italiana, ideal...</td>\n",
       "    </tr>\n",
       "    <tr>\n",
       "      <th>25</th>\n",
       "      <td>Z26</td>\n",
       "      <td>Calzone</td>\n",
       "      <td>Pizzas</td>\n",
       "      <td>7.49</td>\n",
       "      <td>Italia</td>\n",
       "      <td>Pizza cerrada y horneada, rellena de queso, sa...</td>\n",
       "    </tr>\n",
       "  </tbody>\n",
       "</table>\n",
       "</div>"
      ],
      "text/plain": [
       "     ID Nombre_Producto        Categoría  Precio  Origen  \\\n",
       "16  Q17  Pasta de Trigo  Productos Secos    3.99  Italia   \n",
       "25  Z26         Calzone           Pizzas    7.49  Italia   \n",
       "\n",
       "                                          Descripción  \n",
       "16  Deliciosa pasta de trigo durum italiana, ideal...  \n",
       "25  Pizza cerrada y horneada, rellena de queso, sa...  "
      ]
     },
     "execution_count": 8,
     "metadata": {},
     "output_type": "execute_result"
    }
   ],
   "source": [
    "df2 = pd.read_csv(\"productos.csv\", sep=\";\")\n",
    "df2.sample(2)"
   ]
  },
  {
   "cell_type": "code",
   "execution_count": 9,
   "metadata": {},
   "outputs": [
    {
     "name": "stdout",
     "output_type": "stream",
     "text": [
      "<class 'pandas.core.frame.DataFrame'>\n",
      "RangeIndex: 33 entries, 0 to 32\n",
      "Data columns (total 6 columns):\n",
      " #   Column           Non-Null Count  Dtype  \n",
      "---  ------           --------------  -----  \n",
      " 0   ID               33 non-null     object \n",
      " 1   Nombre_Producto  33 non-null     object \n",
      " 2   Categoría        33 non-null     object \n",
      " 3   Precio           33 non-null     float64\n",
      " 4   Origen           33 non-null     object \n",
      " 5   Descripción      33 non-null     object \n",
      "dtypes: float64(1), object(5)\n",
      "memory usage: 1.7+ KB\n"
     ]
    }
   ],
   "source": [
    "df2.info()"
   ]
  },
  {
   "cell_type": "markdown",
   "metadata": {},
   "source": [
    "- Encontrar y eliminar duplicados "
   ]
  },
  {
   "cell_type": "code",
   "execution_count": 10,
   "metadata": {},
   "outputs": [
    {
     "name": "stdout",
     "output_type": "stream",
     "text": [
      "Series([], Name: ID, dtype: object)\n",
      "[]\n",
      "Series([], Name: count, dtype: int64)\n"
     ]
    }
   ],
   "source": [
    "# Identificar los números duplicados\n",
    "duplicados = df2[df2['ID'].duplicated()]\n",
    "\n",
    "# Extraer solo la columna 'employeenumber' de los duplicados\n",
    "numeros_duplicados = duplicados['ID']\n",
    "\n",
    "# Imprimir los números duplicados\n",
    "print(numeros_duplicados)\n",
    "\n",
    "# si solo quieres los valores unicos de los duplicados.\n",
    "print(numeros_duplicados.unique())\n",
    "\n",
    "# si quieres contar los duplicados.\n",
    "print(numeros_duplicados.value_counts())"
   ]
  },
  {
   "cell_type": "code",
   "execution_count": 29,
   "metadata": {},
   "outputs": [],
   "source": [
    "df2.to_csv(\"productos_limpio.csv\", index=False)"
   ]
  },
  {
   "cell_type": "code",
   "execution_count": 11,
   "metadata": {},
   "outputs": [
    {
     "data": {
      "text/html": [
       "<div>\n",
       "<style scoped>\n",
       "    .dataframe tbody tr th:only-of-type {\n",
       "        vertical-align: middle;\n",
       "    }\n",
       "\n",
       "    .dataframe tbody tr th {\n",
       "        vertical-align: top;\n",
       "    }\n",
       "\n",
       "    .dataframe thead th {\n",
       "        text-align: right;\n",
       "    }\n",
       "</style>\n",
       "<table border=\"1\" class=\"dataframe\">\n",
       "  <thead>\n",
       "    <tr style=\"text-align: right;\">\n",
       "      <th></th>\n",
       "      <th>id</th>\n",
       "      <th>first_name</th>\n",
       "      <th>last_name</th>\n",
       "      <th>email</th>\n",
       "      <th>gender</th>\n",
       "      <th>City</th>\n",
       "      <th>Country</th>\n",
       "      <th>Address</th>\n",
       "    </tr>\n",
       "  </thead>\n",
       "  <tbody>\n",
       "    <tr>\n",
       "      <th>155</th>\n",
       "      <td>156</td>\n",
       "      <td>Aldin</td>\n",
       "      <td>Squibe</td>\n",
       "      <td>asquibe4b@dagondesign.com</td>\n",
       "      <td>Male</td>\n",
       "      <td>Cadiz</td>\n",
       "      <td>Spain</td>\n",
       "      <td>3859 Trailsway Center</td>\n",
       "    </tr>\n",
       "    <tr>\n",
       "      <th>456</th>\n",
       "      <td>457</td>\n",
       "      <td>Betsey</td>\n",
       "      <td>Hammant</td>\n",
       "      <td>bhammantco@qq.com</td>\n",
       "      <td>Female</td>\n",
       "      <td>Vitoria-Gasteiz</td>\n",
       "      <td>NaN</td>\n",
       "      <td>732 Esker Street</td>\n",
       "    </tr>\n",
       "  </tbody>\n",
       "</table>\n",
       "</div>"
      ],
      "text/plain": [
       "      id first_name last_name                      email  gender  \\\n",
       "155  156      Aldin    Squibe  asquibe4b@dagondesign.com    Male   \n",
       "456  457     Betsey   Hammant          bhammantco@qq.com  Female   \n",
       "\n",
       "                City Country                Address  \n",
       "155            Cadiz   Spain  3859 Trailsway Center  \n",
       "456  Vitoria-Gasteiz     NaN       732 Esker Street  "
      ]
     },
     "execution_count": 11,
     "metadata": {},
     "output_type": "execute_result"
    }
   ],
   "source": [
    "df3 = pd.read_csv(\"clientes.csv\")\n",
    "df3.sample(2)"
   ]
  },
  {
   "cell_type": "code",
   "execution_count": 12,
   "metadata": {},
   "outputs": [
    {
     "name": "stdout",
     "output_type": "stream",
     "text": [
      "<class 'pandas.core.frame.DataFrame'>\n",
      "RangeIndex: 1000 entries, 0 to 999\n",
      "Data columns (total 8 columns):\n",
      " #   Column      Non-Null Count  Dtype \n",
      "---  ------      --------------  ----- \n",
      " 0   id          1000 non-null   int64 \n",
      " 1   first_name  1000 non-null   object\n",
      " 2   last_name   1000 non-null   object\n",
      " 3   email       973 non-null    object\n",
      " 4   gender      923 non-null    object\n",
      " 5   City        876 non-null    object\n",
      " 6   Country     846 non-null    object\n",
      " 7   Address     959 non-null    object\n",
      "dtypes: int64(1), object(7)\n",
      "memory usage: 62.6+ KB\n"
     ]
    }
   ],
   "source": [
    "df3.info()"
   ]
  },
  {
   "cell_type": "markdown",
   "metadata": {},
   "source": [
    "- Encontrar y eliminar duplicados "
   ]
  },
  {
   "cell_type": "code",
   "execution_count": 13,
   "metadata": {},
   "outputs": [
    {
     "name": "stdout",
     "output_type": "stream",
     "text": [
      "Series([], Name: id, dtype: int64)\n",
      "[]\n",
      "Series([], Name: count, dtype: int64)\n"
     ]
    }
   ],
   "source": [
    "# Identificar los números duplicados\n",
    "duplicados = df3[df3['id'].duplicated()]\n",
    "\n",
    "# Extraer solo la columna 'employeenumber' de los duplicados\n",
    "numeros_duplicados = duplicados['id']\n",
    "\n",
    "# Imprimir los números duplicados\n",
    "print(numeros_duplicados)\n",
    "\n",
    "# si solo quieres los valores unicos de los duplicados.\n",
    "print(numeros_duplicados.unique())\n",
    "\n",
    "# si quieres contar los duplicados.\n",
    "print(numeros_duplicados.value_counts())"
   ]
  },
  {
   "cell_type": "markdown",
   "metadata": {},
   "source": [
    "- Columnas fusionadas, separar"
   ]
  },
  {
   "cell_type": "code",
   "execution_count": 14,
   "metadata": {},
   "outputs": [
    {
     "data": {
      "text/html": [
       "<div>\n",
       "<style scoped>\n",
       "    .dataframe tbody tr th:only-of-type {\n",
       "        vertical-align: middle;\n",
       "    }\n",
       "\n",
       "    .dataframe tbody tr th {\n",
       "        vertical-align: top;\n",
       "    }\n",
       "\n",
       "    .dataframe thead th {\n",
       "        text-align: right;\n",
       "    }\n",
       "</style>\n",
       "<table border=\"1\" class=\"dataframe\">\n",
       "  <thead>\n",
       "    <tr style=\"text-align: right;\">\n",
       "      <th></th>\n",
       "      <th>index</th>\n",
       "      <th>Address</th>\n",
       "    </tr>\n",
       "  </thead>\n",
       "  <tbody>\n",
       "    <tr>\n",
       "      <th>0</th>\n",
       "      <td>0</td>\n",
       "      <td>076 Rockefeller Crossing</td>\n",
       "    </tr>\n",
       "    <tr>\n",
       "      <th>1</th>\n",
       "      <td>1</td>\n",
       "      <td>0046 Utah Junction</td>\n",
       "    </tr>\n",
       "    <tr>\n",
       "      <th>2</th>\n",
       "      <td>2</td>\n",
       "      <td>0 Corry Crossing</td>\n",
       "    </tr>\n",
       "    <tr>\n",
       "      <th>3</th>\n",
       "      <td>3</td>\n",
       "      <td>5 American Ash Road</td>\n",
       "    </tr>\n",
       "    <tr>\n",
       "      <th>4</th>\n",
       "      <td>4</td>\n",
       "      <td>9289 Merry Circle</td>\n",
       "    </tr>\n",
       "  </tbody>\n",
       "</table>\n",
       "</div>"
      ],
      "text/plain": [
       "   index                   Address\n",
       "0      0  076 Rockefeller Crossing\n",
       "1      1        0046 Utah Junction\n",
       "2      2          0 Corry Crossing\n",
       "3      3       5 American Ash Road\n",
       "4      4         9289 Merry Circle"
      ]
     },
     "execution_count": 14,
     "metadata": {},
     "output_type": "execute_result"
    }
   ],
   "source": [
    "df3[\"Address\"].head().reset_index()"
   ]
  },
  {
   "cell_type": "code",
   "execution_count": 16,
   "metadata": {},
   "outputs": [
    {
     "data": {
      "text/html": [
       "<div>\n",
       "<style scoped>\n",
       "    .dataframe tbody tr th:only-of-type {\n",
       "        vertical-align: middle;\n",
       "    }\n",
       "\n",
       "    .dataframe tbody tr th {\n",
       "        vertical-align: top;\n",
       "    }\n",
       "\n",
       "    .dataframe thead th {\n",
       "        text-align: right;\n",
       "    }\n",
       "</style>\n",
       "<table border=\"1\" class=\"dataframe\">\n",
       "  <thead>\n",
       "    <tr style=\"text-align: right;\">\n",
       "      <th></th>\n",
       "      <th>id</th>\n",
       "      <th>first_name</th>\n",
       "      <th>last_name</th>\n",
       "      <th>email</th>\n",
       "      <th>gender</th>\n",
       "      <th>City</th>\n",
       "      <th>Country</th>\n",
       "      <th>Address</th>\n",
       "      <th>Cod</th>\n",
       "    </tr>\n",
       "  </thead>\n",
       "  <tbody>\n",
       "    <tr>\n",
       "      <th>0</th>\n",
       "      <td>1</td>\n",
       "      <td>Cheri</td>\n",
       "      <td>Dunsmore</td>\n",
       "      <td>cdunsmore0@instagram.com</td>\n",
       "      <td>Female</td>\n",
       "      <td>Palma De Mallorca</td>\n",
       "      <td>Spain</td>\n",
       "      <td>Rockefeller Crossing</td>\n",
       "      <td>076</td>\n",
       "    </tr>\n",
       "    <tr>\n",
       "      <th>1</th>\n",
       "      <td>2</td>\n",
       "      <td>Hunt</td>\n",
       "      <td>Bartomeu</td>\n",
       "      <td>hbartomeu1@nsw.gov.au</td>\n",
       "      <td>Male</td>\n",
       "      <td>Lugo</td>\n",
       "      <td>Spain</td>\n",
       "      <td>Utah Junction</td>\n",
       "      <td>0046</td>\n",
       "    </tr>\n",
       "    <tr>\n",
       "      <th>2</th>\n",
       "      <td>3</td>\n",
       "      <td>Michaeline</td>\n",
       "      <td>Paynton</td>\n",
       "      <td>mpaynton2@narod.ru</td>\n",
       "      <td>Female</td>\n",
       "      <td>NaN</td>\n",
       "      <td>Spain</td>\n",
       "      <td>Corry Crossing</td>\n",
       "      <td>0</td>\n",
       "    </tr>\n",
       "    <tr>\n",
       "      <th>3</th>\n",
       "      <td>4</td>\n",
       "      <td>Filmer</td>\n",
       "      <td>Eirwin</td>\n",
       "      <td>feirwin3@intel.com</td>\n",
       "      <td>NaN</td>\n",
       "      <td>Leon</td>\n",
       "      <td>Spain</td>\n",
       "      <td>American Ash Road</td>\n",
       "      <td>5</td>\n",
       "    </tr>\n",
       "    <tr>\n",
       "      <th>4</th>\n",
       "      <td>5</td>\n",
       "      <td>Tanhya</td>\n",
       "      <td>Lubbock</td>\n",
       "      <td>tlubbock4@huffingtonpost.com</td>\n",
       "      <td>Female</td>\n",
       "      <td>Hospitalet De Llobregat, L'</td>\n",
       "      <td>Spain</td>\n",
       "      <td>Merry Circle</td>\n",
       "      <td>9289</td>\n",
       "    </tr>\n",
       "    <tr>\n",
       "      <th>...</th>\n",
       "      <td>...</td>\n",
       "      <td>...</td>\n",
       "      <td>...</td>\n",
       "      <td>...</td>\n",
       "      <td>...</td>\n",
       "      <td>...</td>\n",
       "      <td>...</td>\n",
       "      <td>...</td>\n",
       "      <td>...</td>\n",
       "    </tr>\n",
       "    <tr>\n",
       "      <th>995</th>\n",
       "      <td>996</td>\n",
       "      <td>Ray</td>\n",
       "      <td>Tarpey</td>\n",
       "      <td>rtarpeyrn@bravesites.com</td>\n",
       "      <td>Female</td>\n",
       "      <td>Zamora</td>\n",
       "      <td>Spain</td>\n",
       "      <td>Sommers Terrace</td>\n",
       "      <td>36384</td>\n",
       "    </tr>\n",
       "    <tr>\n",
       "      <th>996</th>\n",
       "      <td>997</td>\n",
       "      <td>Flem</td>\n",
       "      <td>Roderham</td>\n",
       "      <td>froderhamro@dropbox.com</td>\n",
       "      <td>Male</td>\n",
       "      <td>Pontevedra</td>\n",
       "      <td>Spain</td>\n",
       "      <td>Eastwood Parkway</td>\n",
       "      <td>93177</td>\n",
       "    </tr>\n",
       "    <tr>\n",
       "      <th>997</th>\n",
       "      <td>998</td>\n",
       "      <td>Winifield</td>\n",
       "      <td>Blakes</td>\n",
       "      <td>wblakesrp@jiathis.com</td>\n",
       "      <td>Male</td>\n",
       "      <td>Vigo</td>\n",
       "      <td>Spain</td>\n",
       "      <td>Grayhawk Road</td>\n",
       "      <td>03044</td>\n",
       "    </tr>\n",
       "    <tr>\n",
       "      <th>998</th>\n",
       "      <td>999</td>\n",
       "      <td>Lanita</td>\n",
       "      <td>Espinosa</td>\n",
       "      <td>lespinosarq@discuz.net</td>\n",
       "      <td>Female</td>\n",
       "      <td>Dos Hermanas</td>\n",
       "      <td>Spain</td>\n",
       "      <td>Schmedeman Drive</td>\n",
       "      <td>2</td>\n",
       "    </tr>\n",
       "    <tr>\n",
       "      <th>999</th>\n",
       "      <td>1000</td>\n",
       "      <td>Grissel</td>\n",
       "      <td>Siberry</td>\n",
       "      <td>gsiberryrr@wikispaces.com</td>\n",
       "      <td>Female</td>\n",
       "      <td>Leon</td>\n",
       "      <td>Spain</td>\n",
       "      <td>Waywood Terrace</td>\n",
       "      <td>42274</td>\n",
       "    </tr>\n",
       "  </tbody>\n",
       "</table>\n",
       "<p>1000 rows × 9 columns</p>\n",
       "</div>"
      ],
      "text/plain": [
       "       id  first_name last_name                         email  gender  \\\n",
       "0       1       Cheri  Dunsmore      cdunsmore0@instagram.com  Female   \n",
       "1       2        Hunt  Bartomeu         hbartomeu1@nsw.gov.au    Male   \n",
       "2       3  Michaeline   Paynton            mpaynton2@narod.ru  Female   \n",
       "3       4      Filmer    Eirwin            feirwin3@intel.com     NaN   \n",
       "4       5      Tanhya   Lubbock  tlubbock4@huffingtonpost.com  Female   \n",
       "..    ...         ...       ...                           ...     ...   \n",
       "995   996         Ray    Tarpey      rtarpeyrn@bravesites.com  Female   \n",
       "996   997        Flem  Roderham       froderhamro@dropbox.com    Male   \n",
       "997   998   Winifield    Blakes         wblakesrp@jiathis.com    Male   \n",
       "998   999      Lanita  Espinosa        lespinosarq@discuz.net  Female   \n",
       "999  1000     Grissel   Siberry     gsiberryrr@wikispaces.com  Female   \n",
       "\n",
       "                            City Country               Address    Cod  \n",
       "0              Palma De Mallorca   Spain  Rockefeller Crossing    076  \n",
       "1                           Lugo   Spain         Utah Junction   0046  \n",
       "2                            NaN   Spain        Corry Crossing      0  \n",
       "3                           Leon   Spain     American Ash Road      5  \n",
       "4    Hospitalet De Llobregat, L'   Spain          Merry Circle   9289  \n",
       "..                           ...     ...                   ...    ...  \n",
       "995                       Zamora   Spain       Sommers Terrace  36384  \n",
       "996                   Pontevedra   Spain      Eastwood Parkway  93177  \n",
       "997                         Vigo   Spain         Grayhawk Road  03044  \n",
       "998                 Dos Hermanas   Spain      Schmedeman Drive      2  \n",
       "999                         Leon   Spain       Waywood Terrace  42274  \n",
       "\n",
       "[1000 rows x 9 columns]"
      ]
     },
     "execution_count": 16,
     "metadata": {},
     "output_type": "execute_result"
    }
   ],
   "source": [
    "\n",
    "import re\n",
    "\n",
    "def split_address(address):\n",
    "    \"\"\"\n",
    "    Separa la dirección en número y ciudad, manejando valores no-cadena.\n",
    "    \"\"\"\n",
    "    if isinstance(address, str):\n",
    "        match = re.match(r'(\\d+)\\s+(.*)', address)\n",
    "        if match:\n",
    "            return match.group(1), match.group(2)\n",
    "        else:\n",
    "            return None, None\n",
    "    else:\n",
    "        return None, None\n",
    "\n",
    "# Supongamos que tu DataFrame es 'df'\n",
    "df3[['Cod', 'Address']] = df3['Address'].apply(lambda x: pd.Series(split_address(x)))\n",
    "\n",
    "df3"
   ]
  },
  {
   "cell_type": "markdown",
   "metadata": {},
   "source": [
    "- Elimanr columna no necesaria por ser un solo pais \"España\""
   ]
  },
  {
   "cell_type": "code",
   "execution_count": 18,
   "metadata": {},
   "outputs": [
    {
     "data": {
      "text/plain": [
       "array(['Spain', nan], dtype=object)"
      ]
     },
     "execution_count": 18,
     "metadata": {},
     "output_type": "execute_result"
    }
   ],
   "source": [
    "df3[\"Country\"].unique()"
   ]
  },
  {
   "cell_type": "code",
   "execution_count": 19,
   "metadata": {},
   "outputs": [],
   "source": [
    "df3.drop(\"Country\", axis=1, inplace=True)"
   ]
  },
  {
   "cell_type": "code",
   "execution_count": 21,
   "metadata": {},
   "outputs": [
    {
     "data": {
      "text/html": [
       "<div>\n",
       "<style scoped>\n",
       "    .dataframe tbody tr th:only-of-type {\n",
       "        vertical-align: middle;\n",
       "    }\n",
       "\n",
       "    .dataframe tbody tr th {\n",
       "        vertical-align: top;\n",
       "    }\n",
       "\n",
       "    .dataframe thead th {\n",
       "        text-align: right;\n",
       "    }\n",
       "</style>\n",
       "<table border=\"1\" class=\"dataframe\">\n",
       "  <thead>\n",
       "    <tr style=\"text-align: right;\">\n",
       "      <th></th>\n",
       "      <th>id</th>\n",
       "      <th>first_name</th>\n",
       "      <th>last_name</th>\n",
       "      <th>email</th>\n",
       "      <th>gender</th>\n",
       "      <th>City</th>\n",
       "      <th>Address</th>\n",
       "      <th>Cod</th>\n",
       "    </tr>\n",
       "  </thead>\n",
       "  <tbody>\n",
       "    <tr>\n",
       "      <th>654</th>\n",
       "      <td>655</td>\n",
       "      <td>Dexter</td>\n",
       "      <td>Haward</td>\n",
       "      <td>dhawardi6@zdnet.com</td>\n",
       "      <td>Male</td>\n",
       "      <td>Valladolid</td>\n",
       "      <td>Amoth Trail</td>\n",
       "      <td>92</td>\n",
       "    </tr>\n",
       "    <tr>\n",
       "      <th>566</th>\n",
       "      <td>567</td>\n",
       "      <td>Chickie</td>\n",
       "      <td>Corkhill</td>\n",
       "      <td>ccorkhillfq@china.com.cn</td>\n",
       "      <td>Male</td>\n",
       "      <td>Valladolid</td>\n",
       "      <td>4th Street</td>\n",
       "      <td>9</td>\n",
       "    </tr>\n",
       "    <tr>\n",
       "      <th>64</th>\n",
       "      <td>65</td>\n",
       "      <td>Farlay</td>\n",
       "      <td>Donisi</td>\n",
       "      <td>fdonisi1s@meetup.com</td>\n",
       "      <td>Male</td>\n",
       "      <td>Almeria</td>\n",
       "      <td>Graedel Crossing</td>\n",
       "      <td>7</td>\n",
       "    </tr>\n",
       "  </tbody>\n",
       "</table>\n",
       "</div>"
      ],
      "text/plain": [
       "      id first_name last_name                     email gender        City  \\\n",
       "654  655     Dexter    Haward       dhawardi6@zdnet.com   Male  Valladolid   \n",
       "566  567    Chickie  Corkhill  ccorkhillfq@china.com.cn   Male  Valladolid   \n",
       "64    65     Farlay    Donisi      fdonisi1s@meetup.com   Male     Almeria   \n",
       "\n",
       "              Address Cod  \n",
       "654       Amoth Trail  92  \n",
       "566        4th Street   9  \n",
       "64   Graedel Crossing   7  "
      ]
     },
     "execution_count": 21,
     "metadata": {},
     "output_type": "execute_result"
    }
   ],
   "source": [
    "df3.sample(3)"
   ]
  },
  {
   "cell_type": "code",
   "execution_count": 23,
   "metadata": {},
   "outputs": [
    {
     "name": "stdout",
     "output_type": "stream",
     "text": [
      "<class 'pandas.core.frame.DataFrame'>\n",
      "RangeIndex: 1000 entries, 0 to 999\n",
      "Data columns (total 8 columns):\n",
      " #   Column      Non-Null Count  Dtype \n",
      "---  ------      --------------  ----- \n",
      " 0   id          1000 non-null   int64 \n",
      " 1   first_name  1000 non-null   object\n",
      " 2   last_name   1000 non-null   object\n",
      " 3   email       973 non-null    object\n",
      " 4   gender      923 non-null    object\n",
      " 5   City        876 non-null    object\n",
      " 6   Address     959 non-null    object\n",
      " 7   Cod         959 non-null    object\n",
      "dtypes: int64(1), object(7)\n",
      "memory usage: 62.6+ KB\n"
     ]
    }
   ],
   "source": [
    "df3.info()"
   ]
  },
  {
   "cell_type": "code",
   "execution_count": 30,
   "metadata": {},
   "outputs": [],
   "source": [
    "df3.to_csv(\"ventas_limpio.csv\", index=False)"
   ]
  },
  {
   "cell_type": "code",
   "execution_count": null,
   "metadata": {},
   "outputs": [],
   "source": []
  }
 ],
 "metadata": {
  "kernelspec": {
   "display_name": "base",
   "language": "python",
   "name": "python3"
  },
  "language_info": {
   "codemirror_mode": {
    "name": "ipython",
    "version": 3
   },
   "file_extension": ".py",
   "mimetype": "text/x-python",
   "name": "python",
   "nbconvert_exporter": "python",
   "pygments_lexer": "ipython3",
   "version": "3.12.7"
  }
 },
 "nbformat": 4,
 "nbformat_minor": 2
}
